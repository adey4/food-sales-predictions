{
 "nbformat": 4,
 "nbformat_minor": 0,
 "metadata": {
  "colab": {
   "name": "Project 1 - Part 5.ipynb",
   "provenance": [],
   "authorship_tag": "ABX9TyOw0zfZOBex5RlOBqqASWGQ"
  },
  "kernelspec": {
   "name": "python3",
   "display_name": "Python 3"
  },
  "language_info": {
   "name": "python"
  }
 },
 "cells": [
  {
   "cell_type": "markdown",
   "source": [
    "# Project 1 - Final\n",
    "Ankit Dey"
   ],
   "metadata": {
    "id": "tL5VvHsmjsB6",
    "pycharm": {
     "name": "#%% md\n"
    }
   }
  },
  {
   "cell_type": "code",
   "execution_count": 126,
   "metadata": {
    "id": "7uaHZfmvjqVG",
    "pycharm": {
     "name": "#%%\n"
    }
   },
   "outputs": [],
   "source": [
    "import pandas as pd\n",
    "import numpy as np\n",
    "from sklearn.model_selection import train_test_split\n",
    "from sklearn.compose import make_column_selector, make_column_transformer\n",
    "from sklearn.preprocessing import StandardScaler, OneHotEncoder, OrdinalEncoder\n",
    "from sklearn.pipeline import make_pipeline\n",
    "from sklearn.impute import SimpleImputer\n",
    "from sklearn.linear_model import LinearRegression\n",
    "from sklearn.tree import DecisionTreeRegressor\n",
    "from sklearn.model_selection import GridSearchCV\n",
    "from sklearn.metrics import r2_score, mean_squared_error, mean_absolute_error\n",
    "from sklearn import set_config\n",
    "set_config(display='diagram')"
   ]
  },
  {
   "cell_type": "code",
   "source": [
    "sales_predictions = 'https://docs.google.com/spreadsheets/d/e/2PACX-1vSwXLcK1gHn4S6xdVnTN1kZIAdiR3EGWqJKzxOoqEKOdk--tVrbdN_aIQN-PgCVUSyMU_R7KSHsGkOV/pub?gid=135014557&single=true&output=csv'\n",
    "df = pd.read_csv(sales_predictions)"
   ],
   "metadata": {
    "id": "BJcIp-4nj4Ni",
    "pycharm": {
     "name": "#%%\n"
    }
   },
   "execution_count": 127,
   "outputs": []
  },
  {
   "cell_type": "code",
   "source": [
    "# Explore dataset\n",
    "display(df.info())\n",
    "display(df)"
   ],
   "metadata": {
    "colab": {
     "base_uri": "https://localhost:8080/",
     "height": 771
    },
    "id": "EXZ_CvxUkDk7",
    "executionInfo": {
     "status": "ok",
     "timestamp": 1653266322726,
     "user_tz": 420,
     "elapsed": 399,
     "user": {
      "displayName": "Ankit Dey",
      "userId": "01692686160581183527"
     }
    },
    "outputId": "2335aa00-48e8-4d3d-a225-c44edc4da4ba",
    "pycharm": {
     "name": "#%%\n"
    }
   },
   "execution_count": 128,
   "outputs": [
    {
     "name": "stdout",
     "output_type": "stream",
     "text": [
      "<class 'pandas.core.frame.DataFrame'>\n",
      "RangeIndex: 8523 entries, 0 to 8522\n",
      "Data columns (total 12 columns):\n",
      " #   Column                     Non-Null Count  Dtype  \n",
      "---  ------                     --------------  -----  \n",
      " 0   Item_Identifier            8523 non-null   object \n",
      " 1   Item_Weight                7060 non-null   float64\n",
      " 2   Item_Fat_Content           8523 non-null   object \n",
      " 3   Item_Visibility            8523 non-null   float64\n",
      " 4   Item_Type                  8523 non-null   object \n",
      " 5   Item_MRP                   8523 non-null   float64\n",
      " 6   Outlet_Identifier          8523 non-null   object \n",
      " 7   Outlet_Establishment_Year  8523 non-null   int64  \n",
      " 8   Outlet_Size                6113 non-null   object \n",
      " 9   Outlet_Location_Type       8523 non-null   object \n",
      " 10  Outlet_Type                8523 non-null   object \n",
      " 11  Item_Outlet_Sales          8523 non-null   float64\n",
      "dtypes: float64(4), int64(1), object(7)\n",
      "memory usage: 799.2+ KB\n"
     ]
    },
    {
     "data": {
      "text/plain": "None"
     },
     "metadata": {},
     "output_type": "display_data"
    },
    {
     "data": {
      "text/plain": "     Item_Identifier  Item_Weight Item_Fat_Content  Item_Visibility  \\\n0              FDA15        9.300          Low Fat         0.016047   \n1              DRC01        5.920          Regular         0.019278   \n2              FDN15       17.500          Low Fat         0.016760   \n3              FDX07       19.200          Regular         0.000000   \n4              NCD19        8.930          Low Fat         0.000000   \n...              ...          ...              ...              ...   \n8518           FDF22        6.865          Low Fat         0.056783   \n8519           FDS36        8.380          Regular         0.046982   \n8520           NCJ29       10.600          Low Fat         0.035186   \n8521           FDN46        7.210          Regular         0.145221   \n8522           DRG01       14.800          Low Fat         0.044878   \n\n                  Item_Type  Item_MRP Outlet_Identifier  \\\n0                     Dairy  249.8092            OUT049   \n1               Soft Drinks   48.2692            OUT018   \n2                      Meat  141.6180            OUT049   \n3     Fruits and Vegetables  182.0950            OUT010   \n4                 Household   53.8614            OUT013   \n...                     ...       ...               ...   \n8518            Snack Foods  214.5218            OUT013   \n8519           Baking Goods  108.1570            OUT045   \n8520     Health and Hygiene   85.1224            OUT035   \n8521            Snack Foods  103.1332            OUT018   \n8522            Soft Drinks   75.4670            OUT046   \n\n      Outlet_Establishment_Year Outlet_Size Outlet_Location_Type  \\\n0                          1999      Medium               Tier 1   \n1                          2009      Medium               Tier 3   \n2                          1999      Medium               Tier 1   \n3                          1998         NaN               Tier 3   \n4                          1987        High               Tier 3   \n...                         ...         ...                  ...   \n8518                       1987        High               Tier 3   \n8519                       2002         NaN               Tier 2   \n8520                       2004       Small               Tier 2   \n8521                       2009      Medium               Tier 3   \n8522                       1997       Small               Tier 1   \n\n            Outlet_Type  Item_Outlet_Sales  \n0     Supermarket Type1          3735.1380  \n1     Supermarket Type2           443.4228  \n2     Supermarket Type1          2097.2700  \n3         Grocery Store           732.3800  \n4     Supermarket Type1           994.7052  \n...                 ...                ...  \n8518  Supermarket Type1          2778.3834  \n8519  Supermarket Type1           549.2850  \n8520  Supermarket Type1          1193.1136  \n8521  Supermarket Type2          1845.5976  \n8522  Supermarket Type1           765.6700  \n\n[8523 rows x 12 columns]",
      "text/html": "<div>\n<style scoped>\n    .dataframe tbody tr th:only-of-type {\n        vertical-align: middle;\n    }\n\n    .dataframe tbody tr th {\n        vertical-align: top;\n    }\n\n    .dataframe thead th {\n        text-align: right;\n    }\n</style>\n<table border=\"1\" class=\"dataframe\">\n  <thead>\n    <tr style=\"text-align: right;\">\n      <th></th>\n      <th>Item_Identifier</th>\n      <th>Item_Weight</th>\n      <th>Item_Fat_Content</th>\n      <th>Item_Visibility</th>\n      <th>Item_Type</th>\n      <th>Item_MRP</th>\n      <th>Outlet_Identifier</th>\n      <th>Outlet_Establishment_Year</th>\n      <th>Outlet_Size</th>\n      <th>Outlet_Location_Type</th>\n      <th>Outlet_Type</th>\n      <th>Item_Outlet_Sales</th>\n    </tr>\n  </thead>\n  <tbody>\n    <tr>\n      <th>0</th>\n      <td>FDA15</td>\n      <td>9.300</td>\n      <td>Low Fat</td>\n      <td>0.016047</td>\n      <td>Dairy</td>\n      <td>249.8092</td>\n      <td>OUT049</td>\n      <td>1999</td>\n      <td>Medium</td>\n      <td>Tier 1</td>\n      <td>Supermarket Type1</td>\n      <td>3735.1380</td>\n    </tr>\n    <tr>\n      <th>1</th>\n      <td>DRC01</td>\n      <td>5.920</td>\n      <td>Regular</td>\n      <td>0.019278</td>\n      <td>Soft Drinks</td>\n      <td>48.2692</td>\n      <td>OUT018</td>\n      <td>2009</td>\n      <td>Medium</td>\n      <td>Tier 3</td>\n      <td>Supermarket Type2</td>\n      <td>443.4228</td>\n    </tr>\n    <tr>\n      <th>2</th>\n      <td>FDN15</td>\n      <td>17.500</td>\n      <td>Low Fat</td>\n      <td>0.016760</td>\n      <td>Meat</td>\n      <td>141.6180</td>\n      <td>OUT049</td>\n      <td>1999</td>\n      <td>Medium</td>\n      <td>Tier 1</td>\n      <td>Supermarket Type1</td>\n      <td>2097.2700</td>\n    </tr>\n    <tr>\n      <th>3</th>\n      <td>FDX07</td>\n      <td>19.200</td>\n      <td>Regular</td>\n      <td>0.000000</td>\n      <td>Fruits and Vegetables</td>\n      <td>182.0950</td>\n      <td>OUT010</td>\n      <td>1998</td>\n      <td>NaN</td>\n      <td>Tier 3</td>\n      <td>Grocery Store</td>\n      <td>732.3800</td>\n    </tr>\n    <tr>\n      <th>4</th>\n      <td>NCD19</td>\n      <td>8.930</td>\n      <td>Low Fat</td>\n      <td>0.000000</td>\n      <td>Household</td>\n      <td>53.8614</td>\n      <td>OUT013</td>\n      <td>1987</td>\n      <td>High</td>\n      <td>Tier 3</td>\n      <td>Supermarket Type1</td>\n      <td>994.7052</td>\n    </tr>\n    <tr>\n      <th>...</th>\n      <td>...</td>\n      <td>...</td>\n      <td>...</td>\n      <td>...</td>\n      <td>...</td>\n      <td>...</td>\n      <td>...</td>\n      <td>...</td>\n      <td>...</td>\n      <td>...</td>\n      <td>...</td>\n      <td>...</td>\n    </tr>\n    <tr>\n      <th>8518</th>\n      <td>FDF22</td>\n      <td>6.865</td>\n      <td>Low Fat</td>\n      <td>0.056783</td>\n      <td>Snack Foods</td>\n      <td>214.5218</td>\n      <td>OUT013</td>\n      <td>1987</td>\n      <td>High</td>\n      <td>Tier 3</td>\n      <td>Supermarket Type1</td>\n      <td>2778.3834</td>\n    </tr>\n    <tr>\n      <th>8519</th>\n      <td>FDS36</td>\n      <td>8.380</td>\n      <td>Regular</td>\n      <td>0.046982</td>\n      <td>Baking Goods</td>\n      <td>108.1570</td>\n      <td>OUT045</td>\n      <td>2002</td>\n      <td>NaN</td>\n      <td>Tier 2</td>\n      <td>Supermarket Type1</td>\n      <td>549.2850</td>\n    </tr>\n    <tr>\n      <th>8520</th>\n      <td>NCJ29</td>\n      <td>10.600</td>\n      <td>Low Fat</td>\n      <td>0.035186</td>\n      <td>Health and Hygiene</td>\n      <td>85.1224</td>\n      <td>OUT035</td>\n      <td>2004</td>\n      <td>Small</td>\n      <td>Tier 2</td>\n      <td>Supermarket Type1</td>\n      <td>1193.1136</td>\n    </tr>\n    <tr>\n      <th>8521</th>\n      <td>FDN46</td>\n      <td>7.210</td>\n      <td>Regular</td>\n      <td>0.145221</td>\n      <td>Snack Foods</td>\n      <td>103.1332</td>\n      <td>OUT018</td>\n      <td>2009</td>\n      <td>Medium</td>\n      <td>Tier 3</td>\n      <td>Supermarket Type2</td>\n      <td>1845.5976</td>\n    </tr>\n    <tr>\n      <th>8522</th>\n      <td>DRG01</td>\n      <td>14.800</td>\n      <td>Low Fat</td>\n      <td>0.044878</td>\n      <td>Soft Drinks</td>\n      <td>75.4670</td>\n      <td>OUT046</td>\n      <td>1997</td>\n      <td>Small</td>\n      <td>Tier 1</td>\n      <td>Supermarket Type1</td>\n      <td>765.6700</td>\n    </tr>\n  </tbody>\n</table>\n<p>8523 rows × 12 columns</p>\n</div>"
     },
     "metadata": {},
     "output_type": "display_data"
    }
   ]
  },
  {
   "cell_type": "code",
   "source": [
    "# Check for duplicates\n",
    "df.duplicated().sum()"
   ],
   "metadata": {
    "colab": {
     "base_uri": "https://localhost:8080/"
    },
    "id": "vdjGkI8fkNKc",
    "executionInfo": {
     "status": "ok",
     "timestamp": 1653266322726,
     "user_tz": 420,
     "elapsed": 7,
     "user": {
      "displayName": "Ankit Dey",
      "userId": "01692686160581183527"
     }
    },
    "outputId": "9036f517-bb15-47a7-f02d-20aaf2ba469f",
    "pycharm": {
     "name": "#%%\n"
    }
   },
   "execution_count": 129,
   "outputs": [
    {
     "data": {
      "text/plain": "0"
     },
     "execution_count": 129,
     "metadata": {},
     "output_type": "execute_result"
    }
   ]
  },
  {
   "cell_type": "code",
   "source": [
    "# Identify missing values\n",
    "display(df.isna().sum())\n",
    "print('\\n')\n",
    "print(f\"Item_Weight column is missing {round((df['Item_Weight'].isna().sum() / len(df['Item_Weight']) * 100), 1)}% of its rows.\")\n",
    "print(f\"Outlet_Size column is missing {round((df['Outlet_Size'].isna().sum() / len(df['Outlet_Size']) * 100), 1)}% of its rows.\")\n",
    "print(f\"Item_Weight column contains {len(df['Item_Weight'].dropna())} non-missing values.\")\n",
    "print(f\"Outlet_Size column contains {len(df['Outlet_Size'].dropna())} non-missing values.\")\n",
    "\n",
    "# Item_Weight and Outlet_Size columns are missing a moderate percentage of data, but still contain enough data points for column statistics to be useful\n",
    "# Item_Weight and Outlet_Size may be correlated to sales -> columns should not be dropped\n",
    "# Values will be imputed after train-test split to prevent data leakage in our model"
   ],
   "metadata": {
    "colab": {
     "base_uri": "https://localhost:8080/",
     "height": 347
    },
    "id": "JGr66rv-kbUw",
    "executionInfo": {
     "status": "ok",
     "timestamp": 1653266322726,
     "user_tz": 420,
     "elapsed": 6,
     "user": {
      "displayName": "Ankit Dey",
      "userId": "01692686160581183527"
     }
    },
    "outputId": "a550cd2a-22c4-4dd6-fb49-d3cf3ed3950a",
    "pycharm": {
     "name": "#%%\n"
    }
   },
   "execution_count": 130,
   "outputs": [
    {
     "data": {
      "text/plain": "Item_Identifier                 0\nItem_Weight                  1463\nItem_Fat_Content                0\nItem_Visibility                 0\nItem_Type                       0\nItem_MRP                        0\nOutlet_Identifier               0\nOutlet_Establishment_Year       0\nOutlet_Size                  2410\nOutlet_Location_Type            0\nOutlet_Type                     0\nItem_Outlet_Sales               0\ndtype: int64"
     },
     "metadata": {},
     "output_type": "display_data"
    },
    {
     "name": "stdout",
     "output_type": "stream",
     "text": [
      "\n",
      "\n",
      "Item_Weight column is missing 17.2% of its rows.\n",
      "Outlet_Size column is missing 28.3% of its rows.\n",
      "Item_Weight column contains 7060 non-missing values.\n",
      "Outlet_Size column contains 6113 non-missing values.\n"
     ]
    }
   ]
  },
  {
   "cell_type": "code",
   "source": [
    "# Identify syntax errors in categorical data\n",
    "data_types = df.dtypes\n",
    "str_cols = data_types[data_types == 'object'].index\n",
    "\n",
    "for col in str_cols:\n",
    "  print(f'- {col}:')\n",
    "  print(df[col].value_counts(dropna=False))\n",
    "  print('\\n\\n')"
   ],
   "metadata": {
    "colab": {
     "base_uri": "https://localhost:8080/"
    },
    "id": "BkHw_30Kkfmi",
    "executionInfo": {
     "status": "ok",
     "timestamp": 1653266322727,
     "user_tz": 420,
     "elapsed": 6,
     "user": {
      "displayName": "Ankit Dey",
      "userId": "01692686160581183527"
     }
    },
    "outputId": "b2840ec3-c400-4708-ff28-1daf7869e868",
    "pycharm": {
     "name": "#%%\n"
    }
   },
   "execution_count": 131,
   "outputs": [
    {
     "name": "stdout",
     "output_type": "stream",
     "text": [
      "- Item_Identifier:\n",
      "FDW13    10\n",
      "FDG33    10\n",
      "NCY18     9\n",
      "FDD38     9\n",
      "DRE49     9\n",
      "         ..\n",
      "FDY43     1\n",
      "FDQ60     1\n",
      "FDO33     1\n",
      "DRF48     1\n",
      "FDC23     1\n",
      "Name: Item_Identifier, Length: 1559, dtype: int64\n",
      "\n",
      "\n",
      "\n",
      "- Item_Fat_Content:\n",
      "Low Fat    5089\n",
      "Regular    2889\n",
      "LF          316\n",
      "reg         117\n",
      "low fat     112\n",
      "Name: Item_Fat_Content, dtype: int64\n",
      "\n",
      "\n",
      "\n",
      "- Item_Type:\n",
      "Fruits and Vegetables    1232\n",
      "Snack Foods              1200\n",
      "Household                 910\n",
      "Frozen Foods              856\n",
      "Dairy                     682\n",
      "Canned                    649\n",
      "Baking Goods              648\n",
      "Health and Hygiene        520\n",
      "Soft Drinks               445\n",
      "Meat                      425\n",
      "Breads                    251\n",
      "Hard Drinks               214\n",
      "Others                    169\n",
      "Starchy Foods             148\n",
      "Breakfast                 110\n",
      "Seafood                    64\n",
      "Name: Item_Type, dtype: int64\n",
      "\n",
      "\n",
      "\n",
      "- Outlet_Identifier:\n",
      "OUT027    935\n",
      "OUT013    932\n",
      "OUT049    930\n",
      "OUT046    930\n",
      "OUT035    930\n",
      "OUT045    929\n",
      "OUT018    928\n",
      "OUT017    926\n",
      "OUT010    555\n",
      "OUT019    528\n",
      "Name: Outlet_Identifier, dtype: int64\n",
      "\n",
      "\n",
      "\n",
      "- Outlet_Size:\n",
      "Medium    2793\n",
      "NaN       2410\n",
      "Small     2388\n",
      "High       932\n",
      "Name: Outlet_Size, dtype: int64\n",
      "\n",
      "\n",
      "\n",
      "- Outlet_Location_Type:\n",
      "Tier 3    3350\n",
      "Tier 2    2785\n",
      "Tier 1    2388\n",
      "Name: Outlet_Location_Type, dtype: int64\n",
      "\n",
      "\n",
      "\n",
      "- Outlet_Type:\n",
      "Supermarket Type1    5577\n",
      "Grocery Store        1083\n",
      "Supermarket Type3     935\n",
      "Supermarket Type2     928\n",
      "Name: Outlet_Type, dtype: int64\n",
      "\n",
      "\n",
      "\n"
     ]
    }
   ]
  },
  {
   "cell_type": "code",
   "source": [
    "# Fix syntax errors in Item_Fat_Content column\n",
    "df['Item_Fat_Content'] = df['Item_Fat_Content'].str.replace('LF', 'Low Fat')\n",
    "df['Item_Fat_Content'] = df['Item_Fat_Content'].str.replace('low fat', 'Low Fat')\n",
    "df['Item_Fat_Content'] = df['Item_Fat_Content'].str.replace('reg', 'Regular')\n",
    "df['Item_Fat_Content'].unique()"
   ],
   "metadata": {
    "colab": {
     "base_uri": "https://localhost:8080/"
    },
    "id": "16_dJAM6nfim",
    "executionInfo": {
     "status": "ok",
     "timestamp": 1653266322727,
     "user_tz": 420,
     "elapsed": 5,
     "user": {
      "displayName": "Ankit Dey",
      "userId": "01692686160581183527"
     }
    },
    "outputId": "eab3b770-042a-4de2-f19e-c0b8bf5348e5",
    "pycharm": {
     "name": "#%%\n"
    }
   },
   "execution_count": 132,
   "outputs": [
    {
     "data": {
      "text/plain": "array(['Low Fat', 'Regular'], dtype=object)"
     },
     "execution_count": 132,
     "metadata": {},
     "output_type": "execute_result"
    }
   ]
  },
  {
   "cell_type": "code",
   "source": [
    "# Identify errors in numerical data\n",
    "df.describe() # No errors"
   ],
   "metadata": {
    "colab": {
     "base_uri": "https://localhost:8080/",
     "height": 300
    },
    "id": "6SzeOsdvoAot",
    "executionInfo": {
     "status": "ok",
     "timestamp": 1653266323102,
     "user_tz": 420,
     "elapsed": 379,
     "user": {
      "displayName": "Ankit Dey",
      "userId": "01692686160581183527"
     }
    },
    "outputId": "1e1c7762-08f2-4160-ce24-168271ec5c68",
    "pycharm": {
     "name": "#%%\n"
    }
   },
   "execution_count": 133,
   "outputs": [
    {
     "data": {
      "text/plain": "       Item_Weight  Item_Visibility     Item_MRP  Outlet_Establishment_Year  \\\ncount  7060.000000      8523.000000  8523.000000                8523.000000   \nmean     12.857645         0.066132   140.992782                1997.831867   \nstd       4.643456         0.051598    62.275067                   8.371760   \nmin       4.555000         0.000000    31.290000                1985.000000   \n25%       8.773750         0.026989    93.826500                1987.000000   \n50%      12.600000         0.053931   143.012800                1999.000000   \n75%      16.850000         0.094585   185.643700                2004.000000   \nmax      21.350000         0.328391   266.888400                2009.000000   \n\n       Item_Outlet_Sales  \ncount        8523.000000  \nmean         2181.288914  \nstd          1706.499616  \nmin            33.290000  \n25%           834.247400  \n50%          1794.331000  \n75%          3101.296400  \nmax         13086.964800  ",
      "text/html": "<div>\n<style scoped>\n    .dataframe tbody tr th:only-of-type {\n        vertical-align: middle;\n    }\n\n    .dataframe tbody tr th {\n        vertical-align: top;\n    }\n\n    .dataframe thead th {\n        text-align: right;\n    }\n</style>\n<table border=\"1\" class=\"dataframe\">\n  <thead>\n    <tr style=\"text-align: right;\">\n      <th></th>\n      <th>Item_Weight</th>\n      <th>Item_Visibility</th>\n      <th>Item_MRP</th>\n      <th>Outlet_Establishment_Year</th>\n      <th>Item_Outlet_Sales</th>\n    </tr>\n  </thead>\n  <tbody>\n    <tr>\n      <th>count</th>\n      <td>7060.000000</td>\n      <td>8523.000000</td>\n      <td>8523.000000</td>\n      <td>8523.000000</td>\n      <td>8523.000000</td>\n    </tr>\n    <tr>\n      <th>mean</th>\n      <td>12.857645</td>\n      <td>0.066132</td>\n      <td>140.992782</td>\n      <td>1997.831867</td>\n      <td>2181.288914</td>\n    </tr>\n    <tr>\n      <th>std</th>\n      <td>4.643456</td>\n      <td>0.051598</td>\n      <td>62.275067</td>\n      <td>8.371760</td>\n      <td>1706.499616</td>\n    </tr>\n    <tr>\n      <th>min</th>\n      <td>4.555000</td>\n      <td>0.000000</td>\n      <td>31.290000</td>\n      <td>1985.000000</td>\n      <td>33.290000</td>\n    </tr>\n    <tr>\n      <th>25%</th>\n      <td>8.773750</td>\n      <td>0.026989</td>\n      <td>93.826500</td>\n      <td>1987.000000</td>\n      <td>834.247400</td>\n    </tr>\n    <tr>\n      <th>50%</th>\n      <td>12.600000</td>\n      <td>0.053931</td>\n      <td>143.012800</td>\n      <td>1999.000000</td>\n      <td>1794.331000</td>\n    </tr>\n    <tr>\n      <th>75%</th>\n      <td>16.850000</td>\n      <td>0.094585</td>\n      <td>185.643700</td>\n      <td>2004.000000</td>\n      <td>3101.296400</td>\n    </tr>\n    <tr>\n      <th>max</th>\n      <td>21.350000</td>\n      <td>0.328391</td>\n      <td>266.888400</td>\n      <td>2009.000000</td>\n      <td>13086.964800</td>\n    </tr>\n  </tbody>\n</table>\n</div>"
     },
     "execution_count": 133,
     "metadata": {},
     "output_type": "execute_result"
    }
   ]
  },
  {
   "cell_type": "code",
   "source": [
    "# Define features matrix and target vector\n",
    "X = df.drop(columns=['Item_Outlet_Sales'])\n",
    "y = df['Item_Outlet_Sales']\n",
    "\n",
    "# Split data into train and test subsets\n",
    "X_train, X_test, y_train, y_test = train_test_split(X, y, random_state=42)"
   ],
   "metadata": {
    "id": "pMTecWZwoGjL",
    "pycharm": {
     "name": "#%%\n"
    }
   },
   "execution_count": 134,
   "outputs": []
  },
  {
   "cell_type": "code",
   "source": [
    "# Instantiate transformers\n",
    "scaler = StandardScaler()\n",
    "ohe = OneHotEncoder(handle_unknown='ignore')\n",
    "\n",
    "mean_imputer = SimpleImputer(strategy='mean')\n",
    "constant_imputer = SimpleImputer(strategy='constant', fill_value='missing')\n",
    "most_frequent_imputer = SimpleImputer(strategy='most_frequent')"
   ],
   "metadata": {
    "id": "8Wc_7JimoUUn",
    "pycharm": {
     "name": "#%%\n"
    }
   },
   "execution_count": 135,
   "outputs": []
  },
  {
   "cell_type": "code",
   "source": [
    "# Instantiate ordinal encoder\n",
    "item_fat_content_labels = ['Low Fat', 'Regular']\n",
    "outlet_size_labels = ['Small', 'Medium', 'High']\n",
    "\n",
    "ordered_labels = [item_fat_content_labels, outlet_size_labels]\n",
    "\n",
    "ordinal_encoder = OrdinalEncoder(categories=ordered_labels)"
   ],
   "metadata": {
    "id": "F5o9gqF2HMan",
    "pycharm": {
     "name": "#%%\n"
    }
   },
   "execution_count": 136,
   "outputs": []
  },
  {
   "cell_type": "code",
   "source": [
    "# Instantiate pipelines for nominal, ordinal, and numerical data\n",
    "number_pipe = make_pipeline(mean_imputer, scaler) # Mean imputer is used, rather than median imputer, for numerical data because there are no great outliers\n",
    "                                                  # that would skew the mean\n",
    "nominal_pipe = make_pipeline(constant_imputer, ohe) # Constant 'missing' imputer is used for nominal data to identify correlations with missing values\n",
    "ordinal_pipe = make_pipeline(most_frequent_imputer, ordinal_encoder) # Most frequent imputer is used for ordinal data since the imputed value can be ordered"
   ],
   "metadata": {
    "id": "bL3iMfFoIFZc",
    "pycharm": {
     "name": "#%%\n"
    }
   },
   "execution_count": 137,
   "outputs": []
  },
  {
   "cell_type": "code",
   "source": [
    "# Create tuples to match transformations with columns\n",
    "num_selector = make_column_selector(dtype_include='number')\n",
    "ord_cols = ['Item_Fat_Content', 'Outlet_Size']\n",
    "nom_cols = ['Item_Identifier', 'Item_Type', 'Outlet_Identifier', 'Outlet_Location_Type', 'Outlet_Type']\n",
    "\n",
    "num_tuple = (number_pipe, num_selector)\n",
    "ord_tuple = (ordinal_pipe, ord_cols)\n",
    "nom_tuple = (nominal_pipe, nom_cols)"
   ],
   "metadata": {
    "id": "BakmXwyGIGM0",
    "pycharm": {
     "name": "#%%\n"
    }
   },
   "execution_count": 138,
   "outputs": []
  },
  {
   "cell_type": "code",
   "source": [
    "# Instantiate column transformer\n",
    "preprocessor = make_column_transformer(ord_tuple,\n",
    "                                       nom_tuple,\n",
    "                                       num_tuple,\n",
    "                                       remainder='drop')\n",
    "preprocessor"
   ],
   "metadata": {
    "id": "OV7-GUeOLY2j",
    "executionInfo": {
     "status": "ok",
     "timestamp": 1653266330932,
     "user_tz": 420,
     "elapsed": 390,
     "user": {
      "displayName": "Ankit Dey",
      "userId": "01692686160581183527"
     }
    },
    "outputId": "7234e5b8-ecc9-4f4e-916b-9c652eda9c1a",
    "colab": {
     "base_uri": "https://localhost:8080/",
     "height": 152
    },
    "pycharm": {
     "name": "#%%\n"
    }
   },
   "execution_count": 139,
   "outputs": [
    {
     "data": {
      "text/plain": "ColumnTransformer(transformers=[('pipeline-1',\n                                 Pipeline(steps=[('simpleimputer',\n                                                  SimpleImputer(strategy='most_frequent')),\n                                                 ('ordinalencoder',\n                                                  OrdinalEncoder(categories=[['Low '\n                                                                              'Fat',\n                                                                              'Regular'],\n                                                                             ['Small',\n                                                                              'Medium',\n                                                                              'High']]))]),\n                                 ['Item_Fat_Content', 'Outlet_Size']),\n                                ('pipeline-2',\n                                 Pipeline(steps=[('simpleimputer',\n                                                  SimpleImputer(fill_value='missing',\n                                                                strategy='constant')),\n                                                 ('onehotencoder',\n                                                  OneHotEncoder(handle_unknown='ignore'))]),\n                                 ['Item_Identifier', 'Item_Type',\n                                  'Outlet_Identifier', 'Outlet_Location_Type',\n                                  'Outlet_Type']),\n                                ('pipeline-3',\n                                 Pipeline(steps=[('simpleimputer',\n                                                  SimpleImputer()),\n                                                 ('standardscaler',\n                                                  StandardScaler())]),\n                                 <sklearn.compose._column_transformer.make_column_selector object at 0x7fef9adb6e50>)])",
      "text/html": "<style>#sk-baa2c703-e8d6-42c2-af84-76a2889f0dda {color: black;background-color: white;}#sk-baa2c703-e8d6-42c2-af84-76a2889f0dda pre{padding: 0;}#sk-baa2c703-e8d6-42c2-af84-76a2889f0dda div.sk-toggleable {background-color: white;}#sk-baa2c703-e8d6-42c2-af84-76a2889f0dda label.sk-toggleable__label {cursor: pointer;display: block;width: 100%;margin-bottom: 0;padding: 0.3em;box-sizing: border-box;text-align: center;}#sk-baa2c703-e8d6-42c2-af84-76a2889f0dda label.sk-toggleable__label-arrow:before {content: \"▸\";float: left;margin-right: 0.25em;color: #696969;}#sk-baa2c703-e8d6-42c2-af84-76a2889f0dda label.sk-toggleable__label-arrow:hover:before {color: black;}#sk-baa2c703-e8d6-42c2-af84-76a2889f0dda div.sk-estimator:hover label.sk-toggleable__label-arrow:before {color: black;}#sk-baa2c703-e8d6-42c2-af84-76a2889f0dda div.sk-toggleable__content {max-height: 0;max-width: 0;overflow: hidden;text-align: left;background-color: #f0f8ff;}#sk-baa2c703-e8d6-42c2-af84-76a2889f0dda div.sk-toggleable__content pre {margin: 0.2em;color: black;border-radius: 0.25em;background-color: #f0f8ff;}#sk-baa2c703-e8d6-42c2-af84-76a2889f0dda input.sk-toggleable__control:checked~div.sk-toggleable__content {max-height: 200px;max-width: 100%;overflow: auto;}#sk-baa2c703-e8d6-42c2-af84-76a2889f0dda input.sk-toggleable__control:checked~label.sk-toggleable__label-arrow:before {content: \"▾\";}#sk-baa2c703-e8d6-42c2-af84-76a2889f0dda div.sk-estimator input.sk-toggleable__control:checked~label.sk-toggleable__label {background-color: #d4ebff;}#sk-baa2c703-e8d6-42c2-af84-76a2889f0dda div.sk-label input.sk-toggleable__control:checked~label.sk-toggleable__label {background-color: #d4ebff;}#sk-baa2c703-e8d6-42c2-af84-76a2889f0dda input.sk-hidden--visually {border: 0;clip: rect(1px 1px 1px 1px);clip: rect(1px, 1px, 1px, 1px);height: 1px;margin: -1px;overflow: hidden;padding: 0;position: absolute;width: 1px;}#sk-baa2c703-e8d6-42c2-af84-76a2889f0dda div.sk-estimator {font-family: monospace;background-color: #f0f8ff;border: 1px dotted black;border-radius: 0.25em;box-sizing: border-box;margin-bottom: 0.5em;}#sk-baa2c703-e8d6-42c2-af84-76a2889f0dda div.sk-estimator:hover {background-color: #d4ebff;}#sk-baa2c703-e8d6-42c2-af84-76a2889f0dda div.sk-parallel-item::after {content: \"\";width: 100%;border-bottom: 1px solid gray;flex-grow: 1;}#sk-baa2c703-e8d6-42c2-af84-76a2889f0dda div.sk-label:hover label.sk-toggleable__label {background-color: #d4ebff;}#sk-baa2c703-e8d6-42c2-af84-76a2889f0dda div.sk-serial::before {content: \"\";position: absolute;border-left: 1px solid gray;box-sizing: border-box;top: 2em;bottom: 0;left: 50%;}#sk-baa2c703-e8d6-42c2-af84-76a2889f0dda div.sk-serial {display: flex;flex-direction: column;align-items: center;background-color: white;padding-right: 0.2em;padding-left: 0.2em;}#sk-baa2c703-e8d6-42c2-af84-76a2889f0dda div.sk-item {z-index: 1;}#sk-baa2c703-e8d6-42c2-af84-76a2889f0dda div.sk-parallel {display: flex;align-items: stretch;justify-content: center;background-color: white;}#sk-baa2c703-e8d6-42c2-af84-76a2889f0dda div.sk-parallel::before {content: \"\";position: absolute;border-left: 1px solid gray;box-sizing: border-box;top: 2em;bottom: 0;left: 50%;}#sk-baa2c703-e8d6-42c2-af84-76a2889f0dda div.sk-parallel-item {display: flex;flex-direction: column;position: relative;background-color: white;}#sk-baa2c703-e8d6-42c2-af84-76a2889f0dda div.sk-parallel-item:first-child::after {align-self: flex-end;width: 50%;}#sk-baa2c703-e8d6-42c2-af84-76a2889f0dda div.sk-parallel-item:last-child::after {align-self: flex-start;width: 50%;}#sk-baa2c703-e8d6-42c2-af84-76a2889f0dda div.sk-parallel-item:only-child::after {width: 0;}#sk-baa2c703-e8d6-42c2-af84-76a2889f0dda div.sk-dashed-wrapped {border: 1px dashed gray;margin: 0 0.4em 0.5em 0.4em;box-sizing: border-box;padding-bottom: 0.4em;background-color: white;position: relative;}#sk-baa2c703-e8d6-42c2-af84-76a2889f0dda div.sk-label label {font-family: monospace;font-weight: bold;background-color: white;display: inline-block;line-height: 1.2em;}#sk-baa2c703-e8d6-42c2-af84-76a2889f0dda div.sk-label-container {position: relative;z-index: 2;text-align: center;}#sk-baa2c703-e8d6-42c2-af84-76a2889f0dda div.sk-container {/* jupyter's `normalize.less` sets `[hidden] { display: none; }` but bootstrap.min.css set `[hidden] { display: none !important; }` so we also need the `!important` here to be able to override the default hidden behavior on the sphinx rendered scikit-learn.org. See: https://github.com/scikit-learn/scikit-learn/issues/21755 */display: inline-block !important;position: relative;}#sk-baa2c703-e8d6-42c2-af84-76a2889f0dda div.sk-text-repr-fallback {display: none;}</style><div id=\"sk-baa2c703-e8d6-42c2-af84-76a2889f0dda\" class=\"sk-top-container\"><div class=\"sk-text-repr-fallback\"><pre>ColumnTransformer(transformers=[(&#x27;pipeline-1&#x27;,\n                                 Pipeline(steps=[(&#x27;simpleimputer&#x27;,\n                                                  SimpleImputer(strategy=&#x27;most_frequent&#x27;)),\n                                                 (&#x27;ordinalencoder&#x27;,\n                                                  OrdinalEncoder(categories=[[&#x27;Low &#x27;\n                                                                              &#x27;Fat&#x27;,\n                                                                              &#x27;Regular&#x27;],\n                                                                             [&#x27;Small&#x27;,\n                                                                              &#x27;Medium&#x27;,\n                                                                              &#x27;High&#x27;]]))]),\n                                 [&#x27;Item_Fat_Content&#x27;, &#x27;Outlet_Size&#x27;]),\n                                (&#x27;pipeline-2&#x27;,\n                                 Pipeline(steps=[(&#x27;simpleimputer&#x27;,\n                                                  SimpleImputer(fill_value=&#x27;missing&#x27;,\n                                                                strategy=&#x27;constant&#x27;)),\n                                                 (&#x27;onehotencoder&#x27;,\n                                                  OneHotEncoder(handle_unknown=&#x27;ignore&#x27;))]),\n                                 [&#x27;Item_Identifier&#x27;, &#x27;Item_Type&#x27;,\n                                  &#x27;Outlet_Identifier&#x27;, &#x27;Outlet_Location_Type&#x27;,\n                                  &#x27;Outlet_Type&#x27;]),\n                                (&#x27;pipeline-3&#x27;,\n                                 Pipeline(steps=[(&#x27;simpleimputer&#x27;,\n                                                  SimpleImputer()),\n                                                 (&#x27;standardscaler&#x27;,\n                                                  StandardScaler())]),\n                                 &lt;sklearn.compose._column_transformer.make_column_selector object at 0x7fef9adb6e50&gt;)])</pre><b>Please rerun this cell to show the HTML repr or trust the notebook.</b></div><div class=\"sk-container\" hidden><div class=\"sk-item sk-dashed-wrapped\"><div class=\"sk-label-container\"><div class=\"sk-label sk-toggleable\"><input class=\"sk-toggleable__control sk-hidden--visually\" id=\"b06853f6-1b51-49a6-b213-4a34febaa5bc\" type=\"checkbox\" ><label for=\"b06853f6-1b51-49a6-b213-4a34febaa5bc\" class=\"sk-toggleable__label sk-toggleable__label-arrow\">ColumnTransformer</label><div class=\"sk-toggleable__content\"><pre>ColumnTransformer(transformers=[(&#x27;pipeline-1&#x27;,\n                                 Pipeline(steps=[(&#x27;simpleimputer&#x27;,\n                                                  SimpleImputer(strategy=&#x27;most_frequent&#x27;)),\n                                                 (&#x27;ordinalencoder&#x27;,\n                                                  OrdinalEncoder(categories=[[&#x27;Low &#x27;\n                                                                              &#x27;Fat&#x27;,\n                                                                              &#x27;Regular&#x27;],\n                                                                             [&#x27;Small&#x27;,\n                                                                              &#x27;Medium&#x27;,\n                                                                              &#x27;High&#x27;]]))]),\n                                 [&#x27;Item_Fat_Content&#x27;, &#x27;Outlet_Size&#x27;]),\n                                (&#x27;pipeline-2&#x27;,\n                                 Pipeline(steps=[(&#x27;simpleimputer&#x27;,\n                                                  SimpleImputer(fill_value=&#x27;missing&#x27;,\n                                                                strategy=&#x27;constant&#x27;)),\n                                                 (&#x27;onehotencoder&#x27;,\n                                                  OneHotEncoder(handle_unknown=&#x27;ignore&#x27;))]),\n                                 [&#x27;Item_Identifier&#x27;, &#x27;Item_Type&#x27;,\n                                  &#x27;Outlet_Identifier&#x27;, &#x27;Outlet_Location_Type&#x27;,\n                                  &#x27;Outlet_Type&#x27;]),\n                                (&#x27;pipeline-3&#x27;,\n                                 Pipeline(steps=[(&#x27;simpleimputer&#x27;,\n                                                  SimpleImputer()),\n                                                 (&#x27;standardscaler&#x27;,\n                                                  StandardScaler())]),\n                                 &lt;sklearn.compose._column_transformer.make_column_selector object at 0x7fef9adb6e50&gt;)])</pre></div></div></div><div class=\"sk-parallel\"><div class=\"sk-parallel-item\"><div class=\"sk-item\"><div class=\"sk-label-container\"><div class=\"sk-label sk-toggleable\"><input class=\"sk-toggleable__control sk-hidden--visually\" id=\"076e3438-b6ef-4ef3-bfe3-c4c44e94b0c8\" type=\"checkbox\" ><label for=\"076e3438-b6ef-4ef3-bfe3-c4c44e94b0c8\" class=\"sk-toggleable__label sk-toggleable__label-arrow\">pipeline-1</label><div class=\"sk-toggleable__content\"><pre>[&#x27;Item_Fat_Content&#x27;, &#x27;Outlet_Size&#x27;]</pre></div></div></div><div class=\"sk-serial\"><div class=\"sk-item\"><div class=\"sk-serial\"><div class=\"sk-item\"><div class=\"sk-estimator sk-toggleable\"><input class=\"sk-toggleable__control sk-hidden--visually\" id=\"69845bdd-13fe-4ef8-8dc6-0bbb964411e9\" type=\"checkbox\" ><label for=\"69845bdd-13fe-4ef8-8dc6-0bbb964411e9\" class=\"sk-toggleable__label sk-toggleable__label-arrow\">SimpleImputer</label><div class=\"sk-toggleable__content\"><pre>SimpleImputer(strategy=&#x27;most_frequent&#x27;)</pre></div></div></div><div class=\"sk-item\"><div class=\"sk-estimator sk-toggleable\"><input class=\"sk-toggleable__control sk-hidden--visually\" id=\"0d4d4879-e942-4d89-ab17-15b8eeaff6dd\" type=\"checkbox\" ><label for=\"0d4d4879-e942-4d89-ab17-15b8eeaff6dd\" class=\"sk-toggleable__label sk-toggleable__label-arrow\">OrdinalEncoder</label><div class=\"sk-toggleable__content\"><pre>OrdinalEncoder(categories=[[&#x27;Low Fat&#x27;, &#x27;Regular&#x27;], [&#x27;Small&#x27;, &#x27;Medium&#x27;, &#x27;High&#x27;]])</pre></div></div></div></div></div></div></div></div><div class=\"sk-parallel-item\"><div class=\"sk-item\"><div class=\"sk-label-container\"><div class=\"sk-label sk-toggleable\"><input class=\"sk-toggleable__control sk-hidden--visually\" id=\"72df6328-1844-45ac-ab72-c23eba8e7950\" type=\"checkbox\" ><label for=\"72df6328-1844-45ac-ab72-c23eba8e7950\" class=\"sk-toggleable__label sk-toggleable__label-arrow\">pipeline-2</label><div class=\"sk-toggleable__content\"><pre>[&#x27;Item_Identifier&#x27;, &#x27;Item_Type&#x27;, &#x27;Outlet_Identifier&#x27;, &#x27;Outlet_Location_Type&#x27;, &#x27;Outlet_Type&#x27;]</pre></div></div></div><div class=\"sk-serial\"><div class=\"sk-item\"><div class=\"sk-serial\"><div class=\"sk-item\"><div class=\"sk-estimator sk-toggleable\"><input class=\"sk-toggleable__control sk-hidden--visually\" id=\"3ecf82bc-38dd-4869-bd5c-7643e5fb0f23\" type=\"checkbox\" ><label for=\"3ecf82bc-38dd-4869-bd5c-7643e5fb0f23\" class=\"sk-toggleable__label sk-toggleable__label-arrow\">SimpleImputer</label><div class=\"sk-toggleable__content\"><pre>SimpleImputer(fill_value=&#x27;missing&#x27;, strategy=&#x27;constant&#x27;)</pre></div></div></div><div class=\"sk-item\"><div class=\"sk-estimator sk-toggleable\"><input class=\"sk-toggleable__control sk-hidden--visually\" id=\"cdebb623-affc-4c69-a0ed-e8b39de45c34\" type=\"checkbox\" ><label for=\"cdebb623-affc-4c69-a0ed-e8b39de45c34\" class=\"sk-toggleable__label sk-toggleable__label-arrow\">OneHotEncoder</label><div class=\"sk-toggleable__content\"><pre>OneHotEncoder(handle_unknown=&#x27;ignore&#x27;)</pre></div></div></div></div></div></div></div></div><div class=\"sk-parallel-item\"><div class=\"sk-item\"><div class=\"sk-label-container\"><div class=\"sk-label sk-toggleable\"><input class=\"sk-toggleable__control sk-hidden--visually\" id=\"76b50a0d-d335-45f5-a6ad-664723bca3ba\" type=\"checkbox\" ><label for=\"76b50a0d-d335-45f5-a6ad-664723bca3ba\" class=\"sk-toggleable__label sk-toggleable__label-arrow\">pipeline-3</label><div class=\"sk-toggleable__content\"><pre>&lt;sklearn.compose._column_transformer.make_column_selector object at 0x7fef9adb6e50&gt;</pre></div></div></div><div class=\"sk-serial\"><div class=\"sk-item\"><div class=\"sk-serial\"><div class=\"sk-item\"><div class=\"sk-estimator sk-toggleable\"><input class=\"sk-toggleable__control sk-hidden--visually\" id=\"168445df-86de-43a8-a89e-eb7c997d5105\" type=\"checkbox\" ><label for=\"168445df-86de-43a8-a89e-eb7c997d5105\" class=\"sk-toggleable__label sk-toggleable__label-arrow\">SimpleImputer</label><div class=\"sk-toggleable__content\"><pre>SimpleImputer()</pre></div></div></div><div class=\"sk-item\"><div class=\"sk-estimator sk-toggleable\"><input class=\"sk-toggleable__control sk-hidden--visually\" id=\"9a647591-6774-4dfc-b1fd-dfaf10ff0328\" type=\"checkbox\" ><label for=\"9a647591-6774-4dfc-b1fd-dfaf10ff0328\" class=\"sk-toggleable__label sk-toggleable__label-arrow\">StandardScaler</label><div class=\"sk-toggleable__content\"><pre>StandardScaler()</pre></div></div></div></div></div></div></div></div></div></div></div></div>"
     },
     "execution_count": 139,
     "metadata": {},
     "output_type": "execute_result"
    }
   ]
  },
  {
   "cell_type": "code",
   "execution_count": 140,
   "outputs": [],
   "source": [
    "# Fit preprocessor then transform train and test data\n",
    "preprocessor.fit(X_train)\n",
    "\n",
    "X_train_processed = preprocessor.transform(X_train)\n",
    "X_test_processed = preprocessor.transform(X_test)"
   ],
   "metadata": {
    "collapsed": false,
    "pycharm": {
     "name": "#%%\n"
    }
   }
  },
  {
   "cell_type": "code",
   "execution_count": 141,
   "outputs": [
    {
     "data": {
      "text/plain": "LinearRegression()",
      "text/html": "<style>#sk-8333ccf3-538a-4bd4-a887-e2c6aace719d {color: black;background-color: white;}#sk-8333ccf3-538a-4bd4-a887-e2c6aace719d pre{padding: 0;}#sk-8333ccf3-538a-4bd4-a887-e2c6aace719d div.sk-toggleable {background-color: white;}#sk-8333ccf3-538a-4bd4-a887-e2c6aace719d label.sk-toggleable__label {cursor: pointer;display: block;width: 100%;margin-bottom: 0;padding: 0.3em;box-sizing: border-box;text-align: center;}#sk-8333ccf3-538a-4bd4-a887-e2c6aace719d label.sk-toggleable__label-arrow:before {content: \"▸\";float: left;margin-right: 0.25em;color: #696969;}#sk-8333ccf3-538a-4bd4-a887-e2c6aace719d label.sk-toggleable__label-arrow:hover:before {color: black;}#sk-8333ccf3-538a-4bd4-a887-e2c6aace719d div.sk-estimator:hover label.sk-toggleable__label-arrow:before {color: black;}#sk-8333ccf3-538a-4bd4-a887-e2c6aace719d div.sk-toggleable__content {max-height: 0;max-width: 0;overflow: hidden;text-align: left;background-color: #f0f8ff;}#sk-8333ccf3-538a-4bd4-a887-e2c6aace719d div.sk-toggleable__content pre {margin: 0.2em;color: black;border-radius: 0.25em;background-color: #f0f8ff;}#sk-8333ccf3-538a-4bd4-a887-e2c6aace719d input.sk-toggleable__control:checked~div.sk-toggleable__content {max-height: 200px;max-width: 100%;overflow: auto;}#sk-8333ccf3-538a-4bd4-a887-e2c6aace719d input.sk-toggleable__control:checked~label.sk-toggleable__label-arrow:before {content: \"▾\";}#sk-8333ccf3-538a-4bd4-a887-e2c6aace719d div.sk-estimator input.sk-toggleable__control:checked~label.sk-toggleable__label {background-color: #d4ebff;}#sk-8333ccf3-538a-4bd4-a887-e2c6aace719d div.sk-label input.sk-toggleable__control:checked~label.sk-toggleable__label {background-color: #d4ebff;}#sk-8333ccf3-538a-4bd4-a887-e2c6aace719d input.sk-hidden--visually {border: 0;clip: rect(1px 1px 1px 1px);clip: rect(1px, 1px, 1px, 1px);height: 1px;margin: -1px;overflow: hidden;padding: 0;position: absolute;width: 1px;}#sk-8333ccf3-538a-4bd4-a887-e2c6aace719d div.sk-estimator {font-family: monospace;background-color: #f0f8ff;border: 1px dotted black;border-radius: 0.25em;box-sizing: border-box;margin-bottom: 0.5em;}#sk-8333ccf3-538a-4bd4-a887-e2c6aace719d div.sk-estimator:hover {background-color: #d4ebff;}#sk-8333ccf3-538a-4bd4-a887-e2c6aace719d div.sk-parallel-item::after {content: \"\";width: 100%;border-bottom: 1px solid gray;flex-grow: 1;}#sk-8333ccf3-538a-4bd4-a887-e2c6aace719d div.sk-label:hover label.sk-toggleable__label {background-color: #d4ebff;}#sk-8333ccf3-538a-4bd4-a887-e2c6aace719d div.sk-serial::before {content: \"\";position: absolute;border-left: 1px solid gray;box-sizing: border-box;top: 2em;bottom: 0;left: 50%;}#sk-8333ccf3-538a-4bd4-a887-e2c6aace719d div.sk-serial {display: flex;flex-direction: column;align-items: center;background-color: white;padding-right: 0.2em;padding-left: 0.2em;}#sk-8333ccf3-538a-4bd4-a887-e2c6aace719d div.sk-item {z-index: 1;}#sk-8333ccf3-538a-4bd4-a887-e2c6aace719d div.sk-parallel {display: flex;align-items: stretch;justify-content: center;background-color: white;}#sk-8333ccf3-538a-4bd4-a887-e2c6aace719d div.sk-parallel::before {content: \"\";position: absolute;border-left: 1px solid gray;box-sizing: border-box;top: 2em;bottom: 0;left: 50%;}#sk-8333ccf3-538a-4bd4-a887-e2c6aace719d div.sk-parallel-item {display: flex;flex-direction: column;position: relative;background-color: white;}#sk-8333ccf3-538a-4bd4-a887-e2c6aace719d div.sk-parallel-item:first-child::after {align-self: flex-end;width: 50%;}#sk-8333ccf3-538a-4bd4-a887-e2c6aace719d div.sk-parallel-item:last-child::after {align-self: flex-start;width: 50%;}#sk-8333ccf3-538a-4bd4-a887-e2c6aace719d div.sk-parallel-item:only-child::after {width: 0;}#sk-8333ccf3-538a-4bd4-a887-e2c6aace719d div.sk-dashed-wrapped {border: 1px dashed gray;margin: 0 0.4em 0.5em 0.4em;box-sizing: border-box;padding-bottom: 0.4em;background-color: white;position: relative;}#sk-8333ccf3-538a-4bd4-a887-e2c6aace719d div.sk-label label {font-family: monospace;font-weight: bold;background-color: white;display: inline-block;line-height: 1.2em;}#sk-8333ccf3-538a-4bd4-a887-e2c6aace719d div.sk-label-container {position: relative;z-index: 2;text-align: center;}#sk-8333ccf3-538a-4bd4-a887-e2c6aace719d div.sk-container {/* jupyter's `normalize.less` sets `[hidden] { display: none; }` but bootstrap.min.css set `[hidden] { display: none !important; }` so we also need the `!important` here to be able to override the default hidden behavior on the sphinx rendered scikit-learn.org. See: https://github.com/scikit-learn/scikit-learn/issues/21755 */display: inline-block !important;position: relative;}#sk-8333ccf3-538a-4bd4-a887-e2c6aace719d div.sk-text-repr-fallback {display: none;}</style><div id=\"sk-8333ccf3-538a-4bd4-a887-e2c6aace719d\" class=\"sk-top-container\"><div class=\"sk-text-repr-fallback\"><pre>LinearRegression()</pre><b>Please rerun this cell to show the HTML repr or trust the notebook.</b></div><div class=\"sk-container\" hidden><div class=\"sk-item\"><div class=\"sk-estimator sk-toggleable\"><input class=\"sk-toggleable__control sk-hidden--visually\" id=\"600afc9d-fffd-429d-8fb8-8ce90863bfca\" type=\"checkbox\" checked><label for=\"600afc9d-fffd-429d-8fb8-8ce90863bfca\" class=\"sk-toggleable__label sk-toggleable__label-arrow\">LinearRegression</label><div class=\"sk-toggleable__content\"><pre>LinearRegression()</pre></div></div></div></div></div>"
     },
     "execution_count": 141,
     "metadata": {},
     "output_type": "execute_result"
    }
   ],
   "source": [
    "# Instantiate and fit linear reg model\n",
    "lin_reg = LinearRegression()\n",
    "\n",
    "lin_reg.fit(X_train_processed, y_train)"
   ],
   "metadata": {
    "collapsed": false,
    "pycharm": {
     "name": "#%%\n"
    }
   }
  },
  {
   "cell_type": "code",
   "execution_count": 142,
   "outputs": [],
   "source": [
    "# Define evaluate function to return R^2, MAE, and RMSE metrics of predictions\n",
    "def evaluate(y_true, y_preds):\n",
    "    r2 = r2_score(y_true, y_preds)\n",
    "    mae = mean_absolute_error(y_true, y_preds)\n",
    "    rmse = np.sqrt(mean_squared_error(y_true, y_preds))\n",
    "\n",
    "    print(f'R^2: {r2}')\n",
    "    print(f'MAE: {mae}')\n",
    "    print(f'RMSE: {rmse}')"
   ],
   "metadata": {
    "collapsed": false,
    "pycharm": {
     "name": "#%%\n"
    }
   }
  },
  {
   "cell_type": "code",
   "execution_count": 143,
   "outputs": [
    {
     "name": "stdout",
     "output_type": "stream",
     "text": [
      "Train\n",
      "R^2: 0.6716977904734438\n",
      "MAE: 735.6588753401986\n",
      "RMSE: 985.6956156907873\n",
      "\n",
      "Test\n",
      "R^2: 0.38335520838495984\n",
      "MAE: 967.2684270047015\n",
      "RMSE: 1304.3423533375596\n"
     ]
    }
   ],
   "source": [
    "# Evaluate linear reg model\n",
    "lin_train_preds = lin_reg.predict(X_train_processed)\n",
    "lin_test_preds = lin_reg.predict(X_test_processed)\n",
    "\n",
    "print('Train')\n",
    "evaluate(y_train, lin_train_preds)\n",
    "print('\\nTest')\n",
    "evaluate(y_test, lin_test_preds)"
   ],
   "metadata": {
    "collapsed": false,
    "pycharm": {
     "name": "#%%\n"
    }
   }
  },
  {
   "cell_type": "code",
   "execution_count": 144,
   "outputs": [
    {
     "data": {
      "text/plain": "DecisionTreeRegressor()",
      "text/html": "<style>#sk-12179313-29dc-4500-a95b-f0b9b2ac7a7b {color: black;background-color: white;}#sk-12179313-29dc-4500-a95b-f0b9b2ac7a7b pre{padding: 0;}#sk-12179313-29dc-4500-a95b-f0b9b2ac7a7b div.sk-toggleable {background-color: white;}#sk-12179313-29dc-4500-a95b-f0b9b2ac7a7b label.sk-toggleable__label {cursor: pointer;display: block;width: 100%;margin-bottom: 0;padding: 0.3em;box-sizing: border-box;text-align: center;}#sk-12179313-29dc-4500-a95b-f0b9b2ac7a7b label.sk-toggleable__label-arrow:before {content: \"▸\";float: left;margin-right: 0.25em;color: #696969;}#sk-12179313-29dc-4500-a95b-f0b9b2ac7a7b label.sk-toggleable__label-arrow:hover:before {color: black;}#sk-12179313-29dc-4500-a95b-f0b9b2ac7a7b div.sk-estimator:hover label.sk-toggleable__label-arrow:before {color: black;}#sk-12179313-29dc-4500-a95b-f0b9b2ac7a7b div.sk-toggleable__content {max-height: 0;max-width: 0;overflow: hidden;text-align: left;background-color: #f0f8ff;}#sk-12179313-29dc-4500-a95b-f0b9b2ac7a7b div.sk-toggleable__content pre {margin: 0.2em;color: black;border-radius: 0.25em;background-color: #f0f8ff;}#sk-12179313-29dc-4500-a95b-f0b9b2ac7a7b input.sk-toggleable__control:checked~div.sk-toggleable__content {max-height: 200px;max-width: 100%;overflow: auto;}#sk-12179313-29dc-4500-a95b-f0b9b2ac7a7b input.sk-toggleable__control:checked~label.sk-toggleable__label-arrow:before {content: \"▾\";}#sk-12179313-29dc-4500-a95b-f0b9b2ac7a7b div.sk-estimator input.sk-toggleable__control:checked~label.sk-toggleable__label {background-color: #d4ebff;}#sk-12179313-29dc-4500-a95b-f0b9b2ac7a7b div.sk-label input.sk-toggleable__control:checked~label.sk-toggleable__label {background-color: #d4ebff;}#sk-12179313-29dc-4500-a95b-f0b9b2ac7a7b input.sk-hidden--visually {border: 0;clip: rect(1px 1px 1px 1px);clip: rect(1px, 1px, 1px, 1px);height: 1px;margin: -1px;overflow: hidden;padding: 0;position: absolute;width: 1px;}#sk-12179313-29dc-4500-a95b-f0b9b2ac7a7b div.sk-estimator {font-family: monospace;background-color: #f0f8ff;border: 1px dotted black;border-radius: 0.25em;box-sizing: border-box;margin-bottom: 0.5em;}#sk-12179313-29dc-4500-a95b-f0b9b2ac7a7b div.sk-estimator:hover {background-color: #d4ebff;}#sk-12179313-29dc-4500-a95b-f0b9b2ac7a7b div.sk-parallel-item::after {content: \"\";width: 100%;border-bottom: 1px solid gray;flex-grow: 1;}#sk-12179313-29dc-4500-a95b-f0b9b2ac7a7b div.sk-label:hover label.sk-toggleable__label {background-color: #d4ebff;}#sk-12179313-29dc-4500-a95b-f0b9b2ac7a7b div.sk-serial::before {content: \"\";position: absolute;border-left: 1px solid gray;box-sizing: border-box;top: 2em;bottom: 0;left: 50%;}#sk-12179313-29dc-4500-a95b-f0b9b2ac7a7b div.sk-serial {display: flex;flex-direction: column;align-items: center;background-color: white;padding-right: 0.2em;padding-left: 0.2em;}#sk-12179313-29dc-4500-a95b-f0b9b2ac7a7b div.sk-item {z-index: 1;}#sk-12179313-29dc-4500-a95b-f0b9b2ac7a7b div.sk-parallel {display: flex;align-items: stretch;justify-content: center;background-color: white;}#sk-12179313-29dc-4500-a95b-f0b9b2ac7a7b div.sk-parallel::before {content: \"\";position: absolute;border-left: 1px solid gray;box-sizing: border-box;top: 2em;bottom: 0;left: 50%;}#sk-12179313-29dc-4500-a95b-f0b9b2ac7a7b div.sk-parallel-item {display: flex;flex-direction: column;position: relative;background-color: white;}#sk-12179313-29dc-4500-a95b-f0b9b2ac7a7b div.sk-parallel-item:first-child::after {align-self: flex-end;width: 50%;}#sk-12179313-29dc-4500-a95b-f0b9b2ac7a7b div.sk-parallel-item:last-child::after {align-self: flex-start;width: 50%;}#sk-12179313-29dc-4500-a95b-f0b9b2ac7a7b div.sk-parallel-item:only-child::after {width: 0;}#sk-12179313-29dc-4500-a95b-f0b9b2ac7a7b div.sk-dashed-wrapped {border: 1px dashed gray;margin: 0 0.4em 0.5em 0.4em;box-sizing: border-box;padding-bottom: 0.4em;background-color: white;position: relative;}#sk-12179313-29dc-4500-a95b-f0b9b2ac7a7b div.sk-label label {font-family: monospace;font-weight: bold;background-color: white;display: inline-block;line-height: 1.2em;}#sk-12179313-29dc-4500-a95b-f0b9b2ac7a7b div.sk-label-container {position: relative;z-index: 2;text-align: center;}#sk-12179313-29dc-4500-a95b-f0b9b2ac7a7b div.sk-container {/* jupyter's `normalize.less` sets `[hidden] { display: none; }` but bootstrap.min.css set `[hidden] { display: none !important; }` so we also need the `!important` here to be able to override the default hidden behavior on the sphinx rendered scikit-learn.org. See: https://github.com/scikit-learn/scikit-learn/issues/21755 */display: inline-block !important;position: relative;}#sk-12179313-29dc-4500-a95b-f0b9b2ac7a7b div.sk-text-repr-fallback {display: none;}</style><div id=\"sk-12179313-29dc-4500-a95b-f0b9b2ac7a7b\" class=\"sk-top-container\"><div class=\"sk-text-repr-fallback\"><pre>DecisionTreeRegressor()</pre><b>Please rerun this cell to show the HTML repr or trust the notebook.</b></div><div class=\"sk-container\" hidden><div class=\"sk-item\"><div class=\"sk-estimator sk-toggleable\"><input class=\"sk-toggleable__control sk-hidden--visually\" id=\"1c48c29a-a081-4ad6-864e-040de4a84a01\" type=\"checkbox\" checked><label for=\"1c48c29a-a081-4ad6-864e-040de4a84a01\" class=\"sk-toggleable__label sk-toggleable__label-arrow\">DecisionTreeRegressor</label><div class=\"sk-toggleable__content\"><pre>DecisionTreeRegressor()</pre></div></div></div></div></div>"
     },
     "execution_count": 144,
     "metadata": {},
     "output_type": "execute_result"
    }
   ],
   "source": [
    "# Instantiate and fit decision tree model\n",
    "dec_tree = DecisionTreeRegressor()\n",
    "\n",
    "dec_tree.fit(X_train_processed, y_train)"
   ],
   "metadata": {
    "collapsed": false,
    "pycharm": {
     "name": "#%%\n"
    }
   }
  },
  {
   "cell_type": "code",
   "execution_count": 145,
   "outputs": [
    {
     "name": "stdout",
     "output_type": "stream",
     "text": [
      "Train\n",
      "R^2: 1.0\n",
      "MAE: 1.2005415435245748e-16\n",
      "RMSE: 4.96419825584149e-15\n",
      "\n",
      "Test\n",
      "R^2: 0.23189393811022674\n",
      "MAE: 993.1445847958705\n",
      "RMSE: 1455.742827349837\n"
     ]
    }
   ],
   "source": [
    "# Evaluate decision tree model\n",
    "dec_train_preds = dec_tree.predict(X_train_processed)\n",
    "dec_test_preds = dec_tree.predict(X_test_processed)\n",
    "\n",
    "print('Train')\n",
    "evaluate(y_train, dec_train_preds)\n",
    "print('\\nTest')\n",
    "evaluate(y_test, dec_test_preds)"
   ],
   "metadata": {
    "collapsed": false,
    "pycharm": {
     "name": "#%%\n"
    }
   }
  },
  {
   "cell_type": "code",
   "execution_count": 146,
   "outputs": [
    {
     "data": {
      "text/plain": "60"
     },
     "execution_count": 146,
     "metadata": {},
     "output_type": "execute_result"
    }
   ],
   "source": [
    "# Get max depth of dec tree\n",
    "dec_tree.get_depth()"
   ],
   "metadata": {
    "collapsed": false,
    "pycharm": {
     "name": "#%%\n"
    }
   }
  },
  {
   "cell_type": "code",
   "execution_count": 147,
   "outputs": [
    {
     "data": {
      "text/plain": "{'ccp_alpha': 0.0,\n 'criterion': 'squared_error',\n 'max_depth': None,\n 'max_features': None,\n 'max_leaf_nodes': None,\n 'min_impurity_decrease': 0.0,\n 'min_samples_leaf': 1,\n 'min_samples_split': 2,\n 'min_weight_fraction_leaf': 0.0,\n 'random_state': None,\n 'splitter': 'best'}"
     },
     "execution_count": 147,
     "metadata": {},
     "output_type": "execute_result"
    }
   ],
   "source": [
    "dec_tree.get_params()"
   ],
   "metadata": {
    "collapsed": false,
    "pycharm": {
     "name": "#%%\n"
    }
   }
  },
  {
   "cell_type": "code",
   "execution_count": 148,
   "outputs": [
    {
     "name": "stdout",
     "output_type": "stream",
     "text": [
      "{'max_depth': 6, 'min_samples_leaf': 51}\n"
     ]
    }
   ],
   "source": [
    "# Tune decision tree model\n",
    "depths = [x for x in range(1,61)]\n",
    "min_samples_leaf_range = [x for x in range(1,100,10)]\n",
    "params = [{'max_depth': depths,\n",
    "           'min_samples_leaf': min_samples_leaf_range}]\n",
    "\n",
    "gs_dec = GridSearchCV(dec_tree,\n",
    "                      param_grid=params,\n",
    "                      scoring='r2',\n",
    "                      cv=5)\n",
    "gs_dec.fit(X_train_processed, y_train)\n",
    "\n",
    "print(gs_dec.best_params_)"
   ],
   "metadata": {
    "collapsed": false,
    "pycharm": {
     "name": "#%%\n"
    }
   }
  },
  {
   "cell_type": "code",
   "execution_count": 149,
   "outputs": [
    {
     "data": {
      "text/plain": "DecisionTreeRegressor(max_depth=6, min_samples_leaf=51)",
      "text/html": "<style>#sk-bcd8481b-1283-4f1b-8343-ab1fb98f135d {color: black;background-color: white;}#sk-bcd8481b-1283-4f1b-8343-ab1fb98f135d pre{padding: 0;}#sk-bcd8481b-1283-4f1b-8343-ab1fb98f135d div.sk-toggleable {background-color: white;}#sk-bcd8481b-1283-4f1b-8343-ab1fb98f135d label.sk-toggleable__label {cursor: pointer;display: block;width: 100%;margin-bottom: 0;padding: 0.3em;box-sizing: border-box;text-align: center;}#sk-bcd8481b-1283-4f1b-8343-ab1fb98f135d label.sk-toggleable__label-arrow:before {content: \"▸\";float: left;margin-right: 0.25em;color: #696969;}#sk-bcd8481b-1283-4f1b-8343-ab1fb98f135d label.sk-toggleable__label-arrow:hover:before {color: black;}#sk-bcd8481b-1283-4f1b-8343-ab1fb98f135d div.sk-estimator:hover label.sk-toggleable__label-arrow:before {color: black;}#sk-bcd8481b-1283-4f1b-8343-ab1fb98f135d div.sk-toggleable__content {max-height: 0;max-width: 0;overflow: hidden;text-align: left;background-color: #f0f8ff;}#sk-bcd8481b-1283-4f1b-8343-ab1fb98f135d div.sk-toggleable__content pre {margin: 0.2em;color: black;border-radius: 0.25em;background-color: #f0f8ff;}#sk-bcd8481b-1283-4f1b-8343-ab1fb98f135d input.sk-toggleable__control:checked~div.sk-toggleable__content {max-height: 200px;max-width: 100%;overflow: auto;}#sk-bcd8481b-1283-4f1b-8343-ab1fb98f135d input.sk-toggleable__control:checked~label.sk-toggleable__label-arrow:before {content: \"▾\";}#sk-bcd8481b-1283-4f1b-8343-ab1fb98f135d div.sk-estimator input.sk-toggleable__control:checked~label.sk-toggleable__label {background-color: #d4ebff;}#sk-bcd8481b-1283-4f1b-8343-ab1fb98f135d div.sk-label input.sk-toggleable__control:checked~label.sk-toggleable__label {background-color: #d4ebff;}#sk-bcd8481b-1283-4f1b-8343-ab1fb98f135d input.sk-hidden--visually {border: 0;clip: rect(1px 1px 1px 1px);clip: rect(1px, 1px, 1px, 1px);height: 1px;margin: -1px;overflow: hidden;padding: 0;position: absolute;width: 1px;}#sk-bcd8481b-1283-4f1b-8343-ab1fb98f135d div.sk-estimator {font-family: monospace;background-color: #f0f8ff;border: 1px dotted black;border-radius: 0.25em;box-sizing: border-box;margin-bottom: 0.5em;}#sk-bcd8481b-1283-4f1b-8343-ab1fb98f135d div.sk-estimator:hover {background-color: #d4ebff;}#sk-bcd8481b-1283-4f1b-8343-ab1fb98f135d div.sk-parallel-item::after {content: \"\";width: 100%;border-bottom: 1px solid gray;flex-grow: 1;}#sk-bcd8481b-1283-4f1b-8343-ab1fb98f135d div.sk-label:hover label.sk-toggleable__label {background-color: #d4ebff;}#sk-bcd8481b-1283-4f1b-8343-ab1fb98f135d div.sk-serial::before {content: \"\";position: absolute;border-left: 1px solid gray;box-sizing: border-box;top: 2em;bottom: 0;left: 50%;}#sk-bcd8481b-1283-4f1b-8343-ab1fb98f135d div.sk-serial {display: flex;flex-direction: column;align-items: center;background-color: white;padding-right: 0.2em;padding-left: 0.2em;}#sk-bcd8481b-1283-4f1b-8343-ab1fb98f135d div.sk-item {z-index: 1;}#sk-bcd8481b-1283-4f1b-8343-ab1fb98f135d div.sk-parallel {display: flex;align-items: stretch;justify-content: center;background-color: white;}#sk-bcd8481b-1283-4f1b-8343-ab1fb98f135d div.sk-parallel::before {content: \"\";position: absolute;border-left: 1px solid gray;box-sizing: border-box;top: 2em;bottom: 0;left: 50%;}#sk-bcd8481b-1283-4f1b-8343-ab1fb98f135d div.sk-parallel-item {display: flex;flex-direction: column;position: relative;background-color: white;}#sk-bcd8481b-1283-4f1b-8343-ab1fb98f135d div.sk-parallel-item:first-child::after {align-self: flex-end;width: 50%;}#sk-bcd8481b-1283-4f1b-8343-ab1fb98f135d div.sk-parallel-item:last-child::after {align-self: flex-start;width: 50%;}#sk-bcd8481b-1283-4f1b-8343-ab1fb98f135d div.sk-parallel-item:only-child::after {width: 0;}#sk-bcd8481b-1283-4f1b-8343-ab1fb98f135d div.sk-dashed-wrapped {border: 1px dashed gray;margin: 0 0.4em 0.5em 0.4em;box-sizing: border-box;padding-bottom: 0.4em;background-color: white;position: relative;}#sk-bcd8481b-1283-4f1b-8343-ab1fb98f135d div.sk-label label {font-family: monospace;font-weight: bold;background-color: white;display: inline-block;line-height: 1.2em;}#sk-bcd8481b-1283-4f1b-8343-ab1fb98f135d div.sk-label-container {position: relative;z-index: 2;text-align: center;}#sk-bcd8481b-1283-4f1b-8343-ab1fb98f135d div.sk-container {/* jupyter's `normalize.less` sets `[hidden] { display: none; }` but bootstrap.min.css set `[hidden] { display: none !important; }` so we also need the `!important` here to be able to override the default hidden behavior on the sphinx rendered scikit-learn.org. See: https://github.com/scikit-learn/scikit-learn/issues/21755 */display: inline-block !important;position: relative;}#sk-bcd8481b-1283-4f1b-8343-ab1fb98f135d div.sk-text-repr-fallback {display: none;}</style><div id=\"sk-bcd8481b-1283-4f1b-8343-ab1fb98f135d\" class=\"sk-top-container\"><div class=\"sk-text-repr-fallback\"><pre>DecisionTreeRegressor(max_depth=6, min_samples_leaf=51)</pre><b>Please rerun this cell to show the HTML repr or trust the notebook.</b></div><div class=\"sk-container\" hidden><div class=\"sk-item\"><div class=\"sk-estimator sk-toggleable\"><input class=\"sk-toggleable__control sk-hidden--visually\" id=\"a93a89f7-5161-42df-85da-b99b5d874c9d\" type=\"checkbox\" checked><label for=\"a93a89f7-5161-42df-85da-b99b5d874c9d\" class=\"sk-toggleable__label sk-toggleable__label-arrow\">DecisionTreeRegressor</label><div class=\"sk-toggleable__content\"><pre>DecisionTreeRegressor(max_depth=6, min_samples_leaf=51)</pre></div></div></div></div></div>"
     },
     "execution_count": 149,
     "metadata": {},
     "output_type": "execute_result"
    }
   ],
   "source": [
    "# Instantiate and fit final dec tree\n",
    "tuned_dec_tree = DecisionTreeRegressor(max_depth=6, min_samples_leaf=51)\n",
    "\n",
    "tuned_dec_tree.fit(X_train_processed, y_train)"
   ],
   "metadata": {
    "collapsed": false,
    "pycharm": {
     "name": "#%%\n"
    }
   }
  },
  {
   "cell_type": "code",
   "execution_count": 150,
   "outputs": [
    {
     "name": "stdout",
     "output_type": "stream",
     "text": [
      "Train\n",
      "R^2: 0.6091099589297057\n",
      "MAE: 754.9714801107035\n",
      "RMSE: 1075.556489398908\n",
      "\n",
      "Test\n",
      "R^2: 0.5956859696863335\n",
      "MAE: 734.700840486579\n",
      "RMSE: 1056.1691279226907\n"
     ]
    }
   ],
   "source": [
    "# Evaluate tuned dec tree using R^2, MAE, and RMSE metrics\n",
    "tuned_dec_train_preds = tuned_dec_tree.predict(X_train_processed)\n",
    "tuned_dec_test_preds = tuned_dec_tree.predict(X_test_processed)\n",
    "\n",
    "print('Train')\n",
    "evaluate(y_train, tuned_dec_train_preds)\n",
    "print('\\nTest')\n",
    "evaluate(y_test, tuned_dec_test_preds)"
   ],
   "metadata": {
    "collapsed": false,
    "pycharm": {
     "name": "#%%\n"
    }
   }
  },
  {
   "cell_type": "markdown",
   "source": [
    "The tuned decision tree model is recommended over the linear regression model, since the decision tree model shows a higher R^2^ (0.60 vs 0.38), lower MAE (735 vs 995), and lower RMSE (1056 vs 1304) on test data. The decision tree model also shows a train R^2^ of 0.61 that is very close to the test R^2^ of 0.60, indicating adequate model fit."
   ],
   "metadata": {
    "collapsed": false,
    "pycharm": {
     "name": "#%% md\n"
    }
   }
  }
 ]
}